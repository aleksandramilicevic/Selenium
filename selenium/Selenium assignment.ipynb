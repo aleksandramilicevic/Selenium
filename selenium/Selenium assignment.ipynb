{
 "cells": [
  {
   "cell_type": "markdown",
   "metadata": {},
   "source": [
    "### Subtask №1"
   ]
  },
  {
   "cell_type": "code",
   "execution_count": 143,
   "metadata": {},
   "outputs": [],
   "source": [
    "from selenium import webdriver as wd\n",
    "import chromedriver_binary\n",
    "from selenium.webdriver.common.keys import Keys"
   ]
  },
  {
   "cell_type": "code",
   "execution_count": 144,
   "metadata": {},
   "outputs": [
    {
     "data": {
      "text/plain": [
       "'D:\\\\Anaconda\\\\lib\\\\site-packages\\\\chromedriver_autoinstaller\\\\101\\\\chromedriver.exe'"
      ]
     },
     "execution_count": 144,
     "metadata": {},
     "output_type": "execute_result"
    }
   ],
   "source": [
    "#this was needed due to themismatch of chrome driver versions\n",
    "\n",
    "import chromedriver_autoinstaller\n",
    "chromedriver_autoinstaller.install()"
   ]
  },
  {
   "cell_type": "code",
   "execution_count": 145,
   "metadata": {},
   "outputs": [],
   "source": [
    "wd = wd.Chrome()\n",
    "wd.implicitly_wait(10)"
   ]
  },
  {
   "cell_type": "code",
   "execution_count": 146,
   "metadata": {},
   "outputs": [],
   "source": [
    "#opening a purchase link\n",
    "wd.get(\"https://edalnice.cz/en/bulk-purchase/index.html \")"
   ]
  },
  {
   "cell_type": "markdown",
   "metadata": {},
   "source": [
    "### Subask №2"
   ]
  },
  {
   "cell_type": "code",
   "execution_count": 147,
   "metadata": {},
   "outputs": [
    {
     "name": "stdout",
     "output_type": "stream",
     "text": [
      "Column name Country\n",
      "Column content ['India' 'French Republic' 'United States' 'Czech Republic' 'Russia' nan]\n",
      "Column name Validity Begins\n",
      "Column content ['28/05/22' '1/6/2022' '10/6/2022' '30/05/22' '28/05/22' nan]\n",
      "Column name License Plate\n",
      "Column content ['EW302L' 'DSK21' 'KF233' 'OK332L' 'MK99D' nan]\n",
      "Column name Powered by\n",
      "Column content [nan 'Natural Gas' nan 'Biomethane' nan nan]\n",
      "Column name Type of Vignette\n",
      "Column content ['Annual' '30-day' 'Annual' '10-day' '10-day' nan]\n"
     ]
    }
   ],
   "source": [
    "import pandas as pd\n",
    "\n",
    "\n",
    "\n",
    "df = pd.read_csv(r\"C:\\Users\\Korisnik\\Desktop\\PythonFiles\\sample.csv\", index_col= column)\n",
    "df = df.reset_index()\n",
    "data = pd.DataFrame(df, columns =[\"Country\", \"Validity Begins\", \"License Plate\", \"Powered by\", \"Type of Vignette\"], index = [0, 1, 2, 3, 4, 5])\n",
    "\n",
    "for (columnName, columnData) in data.iteritems():\n",
    "    print(\"Column name\", columnName)\n",
    "    print(\"Column content\", columnData.values)\n",
    "\n",
    "    \n",
    "    \n",
    "    #for client, record in df.to_dict(orient='records'):\n",
    "    #print(client) # use these print statements if what you're looping over is unfamiliar \n",
    "    #print(record)\n",
    "    #driver.find_element('#client_input).send_keys(client)\n",
    "    #driver.find_element('#address_input').send_keys(record['address'])\n"
   ]
  },
  {
   "cell_type": "code",
   "execution_count": 151,
   "metadata": {},
   "outputs": [
    {
     "name": "stderr",
     "output_type": "stream",
     "text": [
      "D:\\Anaconda\\lib\\site-packages\\ipykernel_launcher.py:10: DeprecationWarning: find_element_by_* commands are deprecated. Please use find_element() instead\n",
      "  # Remove the CWD from sys.path while we load stuff.\n",
      "D:\\Anaconda\\lib\\site-packages\\ipykernel_launcher.py:11: DeprecationWarning: find_element_by_* commands are deprecated. Please use find_element() instead\n",
      "  # This is added back by InteractiveShellApp.init_path()\n",
      "D:\\Anaconda\\lib\\site-packages\\ipykernel_launcher.py:12: DeprecationWarning: find_element_by_xpath is deprecated. Please use find_element(by=By.XPATH, value=xpath) instead\n",
      "  if sys.path[0] == '':\n"
     ]
    }
   ],
   "source": [
    "from selenium.webdriver.common.action_chains import ActionChains\n",
    "\n",
    "#for increasing the columns\n",
    "counter1 = 0\n",
    "#for increasing the rows\n",
    "counter2 = 0\n",
    "arr = [\"react-select-2-input\", \"valid-since-input\", \"//div[@class='multi-eshop jumbotron']/div[3]/div/div/div/input\",\n",
    "       \"alternative_fuel_type_checkbox_0\", ]\n",
    "\n",
    "country = wd.find_element_by_id(\"react-select-2-input\")\n",
    "date = wd.find_element_by_id(\"valid-since-input\")\n",
    "license_plate = wd.find_element_by_xpath(\"//div[@class='multi-eshop jumbotron']/div[3]/div/div/div/input\")\n",
    "for i in range (5):\n",
    "    \n",
    "    for (columnName, columnData) in data.iteritems():\n",
    "        if columnName == 'Country':\n",
    "            country.send_keys(columnData[i])\n",
    "            country.send_keys(Keys.RETURN)\n",
    "        if columnName == 'Validity Begins':\n",
    "            date.send_keys(columnData[i])\n",
    "            date.send_keys(Keys.RETURN)\n",
    "        if columnName == \"License Plate\":\n",
    "            license_plate.send_keys(columnData[i])\n",
    "            license_plate.send_keys(Keys.RETURN)\n",
    "            \n",
    "    #button = wd.find_element_by_xpath(\"//button[1]\")\n",
    "    #wd.implicitly_wait(10)\n",
    "    #ActionChains(wd).move_to_element(button).click(button).perform()\n",
    "\n",
    "    \n",
    "    "
   ]
  },
  {
   "cell_type": "markdown",
   "metadata": {},
   "source": [
    "### I know this is not even 10% of the work, but unfortunately i had less then 2 hours for the task"
   ]
  },
  {
   "cell_type": "code",
   "execution_count": null,
   "metadata": {},
   "outputs": [],
   "source": []
  },
  {
   "cell_type": "code",
   "execution_count": null,
   "metadata": {},
   "outputs": [],
   "source": []
  }
 ],
 "metadata": {
  "kernelspec": {
   "display_name": "Python 3",
   "language": "python",
   "name": "python3"
  },
  "language_info": {
   "codemirror_mode": {
    "name": "ipython",
    "version": 3
   },
   "file_extension": ".py",
   "mimetype": "text/x-python",
   "name": "python",
   "nbconvert_exporter": "python",
   "pygments_lexer": "ipython3",
   "version": "3.7.3"
  }
 },
 "nbformat": 4,
 "nbformat_minor": 2
}
